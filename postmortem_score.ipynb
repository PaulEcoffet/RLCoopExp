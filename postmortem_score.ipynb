{
 "cells": [
  {
   "cell_type": "code",
   "execution_count": 1,
   "metadata": {},
   "outputs": [],
   "source": [
    "import pandas as pd\n",
    "import numpy as np\n",
    "import matplotlib.pyplot as plt\n",
    "import seaborn as sns\n",
    "import os\n",
    "figwidth=3.3\n",
    "sns.set()\n",
    "sns.set_palette('colorblind')\n",
    "sns.set_context('paper', font_scale=0.75)\n",
    "sns.set_style(\"whitegrid\")\n",
    "figsize=(figwidth, figwidth/1.5)\n",
    "from categoricalhack import boxplot\n",
    "\n",
    "\n",
    "def removeprefix(self: str, prefix: str, /) -> str:\n",
    "    if self.startswith(prefix):\n",
    "        return self[len(prefix):]\n",
    "    else:\n",
    "        return self[:]\n",
    "%config InlineBackend.figure_format = 'retina'\n"
   ]
  },
  {
   "cell_type": "code",
   "execution_count": 21,
   "metadata": {},
   "outputs": [
    {
     "name": "stdout",
     "output_type": "stream",
     "text": [
      "paperrun2e200000\n"
     ]
    }
   ],
   "source": [
    "nepisodes = 200000\n",
    "path = f\"logs/paperrun2/e{nepisodes}//\"\n",
    "\n",
    "shortname = ''.join(removeprefix(path, 'logs/').split('/'))\n",
    "print(shortname)\n",
    "figdir = \"figures/\" + shortname + \"/\"\n",
    "os.makedirs(figdir, exist_ok=True)"
   ]
  },
  {
   "cell_type": "code",
   "execution_count": 22,
   "metadata": {},
   "outputs": [],
   "source": [
    "a = pd.read_csv(path+ \"/ppobiglr/evalatend.csv.gz\")\n",
    "a[\"algo\"] = \"PPO-MLP\"\n",
    "\n",
    "b = pd.read_csv(path + \"/cmafixed/evalatend.csv.gz\")\n",
    "b[\"algo\"] = \"CMA-ES\"\n",
    "\n",
    "c = pd.read_csv(\"logs/paperrun3/bignetfastredo/evalatend.csv.gz\")\n",
    "c[\"algo\"] = \"PPO-DEEP\"\n",
    "\n",
    "a = pd.concat((a, b, c))\n",
    "\n",
    "a = a.groupby([\"algo\", \"p\", \"trial_id\"], as_index=False).mean()\n",
    "if False:\n",
    "    aout = a.set_index([\"p\", \"trial_id\"])\n",
    "    op = a.groupby([\"p\", \"trial_id\"])[\"inv\"].std()\n",
    "    aout[\"inv_std\"] = op\n",
    "    op = a.groupby([\"p\", \"trial_id\"])[\"inv\"].mean()\n",
    "    aout[\"inv_mean\"] = op\n",
    "\n",
    "a[\"Algorithm\"] = a[\"algo\"]"
   ]
  },
  {
   "cell_type": "code",
   "execution_count": 23,
   "metadata": {},
   "outputs": [
    {
     "data": {
      "text/html": [
       "<div>\n",
       "<style scoped>\n",
       "    .dataframe tbody tr th:only-of-type {\n",
       "        vertical-align: middle;\n",
       "    }\n",
       "\n",
       "    .dataframe tbody tr th {\n",
       "        vertical-align: top;\n",
       "    }\n",
       "\n",
       "    .dataframe thead th {\n",
       "        text-align: right;\n",
       "    }\n",
       "</style>\n",
       "<table border=\"1\" class=\"dataframe\">\n",
       "  <thead>\n",
       "    <tr style=\"text-align: right;\">\n",
       "      <th></th>\n",
       "      <th></th>\n",
       "      <th>trial_id</th>\n",
       "      <th>Unnamed: 0</th>\n",
       "      <th>ep</th>\n",
       "      <th>reward</th>\n",
       "      <th>run_id</th>\n",
       "      <th>good_site_prob</th>\n",
       "      <th>Algorithm</th>\n",
       "    </tr>\n",
       "    <tr>\n",
       "      <th>p</th>\n",
       "      <th>algo</th>\n",
       "      <th></th>\n",
       "      <th></th>\n",
       "      <th></th>\n",
       "      <th></th>\n",
       "      <th></th>\n",
       "      <th></th>\n",
       "      <th></th>\n",
       "    </tr>\n",
       "  </thead>\n",
       "  <tbody>\n",
       "    <tr>\n",
       "      <th rowspan=\"3\" valign=\"top\">0.10</th>\n",
       "      <th>CMA-ES</th>\n",
       "      <td>24</td>\n",
       "      <td>24</td>\n",
       "      <td>24</td>\n",
       "      <td>24</td>\n",
       "      <td>24</td>\n",
       "      <td>24</td>\n",
       "      <td>24</td>\n",
       "    </tr>\n",
       "    <tr>\n",
       "      <th>PPO-DEEP</th>\n",
       "      <td>24</td>\n",
       "      <td>24</td>\n",
       "      <td>24</td>\n",
       "      <td>24</td>\n",
       "      <td>24</td>\n",
       "      <td>24</td>\n",
       "      <td>24</td>\n",
       "    </tr>\n",
       "    <tr>\n",
       "      <th>PPO-MLP</th>\n",
       "      <td>24</td>\n",
       "      <td>24</td>\n",
       "      <td>24</td>\n",
       "      <td>24</td>\n",
       "      <td>24</td>\n",
       "      <td>24</td>\n",
       "      <td>24</td>\n",
       "    </tr>\n",
       "    <tr>\n",
       "      <th rowspan=\"3\" valign=\"top\">0.20</th>\n",
       "      <th>CMA-ES</th>\n",
       "      <td>24</td>\n",
       "      <td>24</td>\n",
       "      <td>24</td>\n",
       "      <td>24</td>\n",
       "      <td>24</td>\n",
       "      <td>24</td>\n",
       "      <td>24</td>\n",
       "    </tr>\n",
       "    <tr>\n",
       "      <th>PPO-DEEP</th>\n",
       "      <td>23</td>\n",
       "      <td>23</td>\n",
       "      <td>23</td>\n",
       "      <td>23</td>\n",
       "      <td>23</td>\n",
       "      <td>23</td>\n",
       "      <td>23</td>\n",
       "    </tr>\n",
       "    <tr>\n",
       "      <th>PPO-MLP</th>\n",
       "      <td>24</td>\n",
       "      <td>24</td>\n",
       "      <td>24</td>\n",
       "      <td>24</td>\n",
       "      <td>24</td>\n",
       "      <td>24</td>\n",
       "      <td>24</td>\n",
       "    </tr>\n",
       "    <tr>\n",
       "      <th rowspan=\"3\" valign=\"top\">0.50</th>\n",
       "      <th>CMA-ES</th>\n",
       "      <td>24</td>\n",
       "      <td>24</td>\n",
       "      <td>24</td>\n",
       "      <td>24</td>\n",
       "      <td>24</td>\n",
       "      <td>24</td>\n",
       "      <td>24</td>\n",
       "    </tr>\n",
       "    <tr>\n",
       "      <th>PPO-DEEP</th>\n",
       "      <td>24</td>\n",
       "      <td>24</td>\n",
       "      <td>24</td>\n",
       "      <td>24</td>\n",
       "      <td>24</td>\n",
       "      <td>24</td>\n",
       "      <td>24</td>\n",
       "    </tr>\n",
       "    <tr>\n",
       "      <th>PPO-MLP</th>\n",
       "      <td>24</td>\n",
       "      <td>24</td>\n",
       "      <td>24</td>\n",
       "      <td>24</td>\n",
       "      <td>24</td>\n",
       "      <td>24</td>\n",
       "      <td>24</td>\n",
       "    </tr>\n",
       "    <tr>\n",
       "      <th rowspan=\"3\" valign=\"top\">1.00</th>\n",
       "      <th>CMA-ES</th>\n",
       "      <td>24</td>\n",
       "      <td>24</td>\n",
       "      <td>24</td>\n",
       "      <td>24</td>\n",
       "      <td>24</td>\n",
       "      <td>24</td>\n",
       "      <td>24</td>\n",
       "    </tr>\n",
       "    <tr>\n",
       "      <th>PPO-DEEP</th>\n",
       "      <td>24</td>\n",
       "      <td>24</td>\n",
       "      <td>24</td>\n",
       "      <td>24</td>\n",
       "      <td>24</td>\n",
       "      <td>24</td>\n",
       "      <td>24</td>\n",
       "    </tr>\n",
       "    <tr>\n",
       "      <th>PPO-MLP</th>\n",
       "      <td>24</td>\n",
       "      <td>24</td>\n",
       "      <td>24</td>\n",
       "      <td>24</td>\n",
       "      <td>24</td>\n",
       "      <td>24</td>\n",
       "      <td>24</td>\n",
       "    </tr>\n",
       "  </tbody>\n",
       "</table>\n",
       "</div>"
      ],
      "text/plain": [
       "               trial_id  Unnamed: 0  ep  reward  run_id  good_site_prob  \\\n",
       "p    algo                                                                 \n",
       "0.10 CMA-ES          24          24  24      24      24              24   \n",
       "     PPO-DEEP        24          24  24      24      24              24   \n",
       "     PPO-MLP         24          24  24      24      24              24   \n",
       "0.20 CMA-ES          24          24  24      24      24              24   \n",
       "     PPO-DEEP        23          23  23      23      23              23   \n",
       "     PPO-MLP         24          24  24      24      24              24   \n",
       "0.50 CMA-ES          24          24  24      24      24              24   \n",
       "     PPO-DEEP        24          24  24      24      24              24   \n",
       "     PPO-MLP         24          24  24      24      24              24   \n",
       "1.00 CMA-ES          24          24  24      24      24              24   \n",
       "     PPO-DEEP        24          24  24      24      24              24   \n",
       "     PPO-MLP         24          24  24      24      24              24   \n",
       "\n",
       "               Algorithm  \n",
       "p    algo                 \n",
       "0.10 CMA-ES           24  \n",
       "     PPO-DEEP         24  \n",
       "     PPO-MLP          24  \n",
       "0.20 CMA-ES           24  \n",
       "     PPO-DEEP         23  \n",
       "     PPO-MLP          24  \n",
       "0.50 CMA-ES           24  \n",
       "     PPO-DEEP         24  \n",
       "     PPO-MLP          24  \n",
       "1.00 CMA-ES           24  \n",
       "     PPO-DEEP         24  \n",
       "     PPO-MLP          24  "
      ]
     },
     "execution_count": 23,
     "metadata": {},
     "output_type": "execute_result"
    }
   ],
   "source": [
    "a.groupby([\"p\", \"algo\"]).count()"
   ]
  },
  {
   "cell_type": "code",
   "execution_count": 24,
   "metadata": {},
   "outputs": [],
   "source": [
    "alg_order = [\"CMA-ES\", \"PPO-DEEP\", \"PPO-MLP\"]"
   ]
  },
  {
   "cell_type": "code",
   "execution_count": 6,
   "metadata": {},
   "outputs": [],
   "source": [
    "from statannot import add_stat_annotation"
   ]
  },
  {
   "cell_type": "code",
   "execution_count": 26,
   "metadata": {},
   "outputs": [
    {
     "name": "stdout",
     "output_type": "stream",
     "text": [
      "p-value annotation legend:\n",
      "ns: 5.00e-02 < p <= 1.00e+00\n",
      "*: 1.00e-02 < p <= 5.00e-02\n",
      "**: 1.00e-03 < p <= 1.00e-02\n",
      "***: 1.00e-04 < p <= 1.00e-03\n",
      "****: p <= 1.00e-04\n",
      "\n",
      "0.1_CMA-ES v.s. 0.1_PPO-DEEP: Mann-Whitney-Wilcoxon test two-sided, P_val=3.897e-08 U_stat=5.550e+02\n",
      "0.1_PPO-DEEP v.s. 0.1_PPO-MLP: Mann-Whitney-Wilcoxon test two-sided, P_val=1.230e-07 U_stat=5.450e+02\n",
      "0.1_CMA-ES v.s. 0.1_PPO-MLP: Mann-Whitney-Wilcoxon test two-sided, P_val=3.058e-09 U_stat=5.760e+02\n",
      "p-value annotation legend:\n",
      "ns: 5.00e-02 < p <= 1.00e+00\n",
      "*: 1.00e-02 < p <= 5.00e-02\n",
      "**: 1.00e-03 < p <= 1.00e-02\n",
      "***: 1.00e-04 < p <= 1.00e-03\n",
      "****: p <= 1.00e-04\n",
      "\n",
      "0.2_PPO-DEEP v.s. 0.2_PPO-MLP: Mann-Whitney-Wilcoxon test two-sided, P_val=2.460e-07 U_stat=5.190e+02\n",
      "0.2_CMA-ES v.s. 0.2_PPO-DEEP: Mann-Whitney-Wilcoxon test two-sided, P_val=2.258e-03 U_stat=4.200e+02\n",
      "0.2_CMA-ES v.s. 0.2_PPO-MLP: Mann-Whitney-Wilcoxon test two-sided, P_val=3.005e-06 U_stat=5.150e+02\n",
      "p-value annotation legend:\n",
      "ns: 5.00e-02 < p <= 1.00e+00\n",
      "*: 1.00e-02 < p <= 5.00e-02\n",
      "**: 1.00e-03 < p <= 1.00e-02\n",
      "***: 1.00e-04 < p <= 1.00e-03\n",
      "****: p <= 1.00e-04\n",
      "\n",
      "0.5_CMA-ES v.s. 0.5_PPO-DEEP: Mann-Whitney-Wilcoxon test two-sided, P_val=9.320e-05 U_stat=4.780e+02\n",
      "0.5_PPO-DEEP v.s. 0.5_PPO-MLP: Mann-Whitney-Wilcoxon test two-sided, P_val=6.370e-07 U_stat=5.300e+02\n",
      "0.5_CMA-ES v.s. 0.5_PPO-MLP: Mann-Whitney-Wilcoxon test two-sided, P_val=5.545e-05 U_stat=4.840e+02\n",
      "p-value annotation legend:\n",
      "ns: 5.00e-02 < p <= 1.00e+00\n",
      "*: 1.00e-02 < p <= 5.00e-02\n",
      "**: 1.00e-03 < p <= 1.00e-02\n",
      "***: 1.00e-04 < p <= 1.00e-03\n",
      "****: p <= 1.00e-04\n",
      "\n",
      "1.0_CMA-ES v.s. 1.0_PPO-DEEP: Mann-Whitney-Wilcoxon test two-sided, P_val=1.194e-01 U_stat=3.640e+02\n",
      "1.0_PPO-DEEP v.s. 1.0_PPO-MLP: Mann-Whitney-Wilcoxon test two-sided, P_val=1.820e-02 U_stat=4.030e+02\n",
      "1.0_CMA-ES v.s. 1.0_PPO-MLP: Mann-Whitney-Wilcoxon test two-sided, P_val=1.927e-02 U_stat=4.020e+02\n"
     ]
    },
    {
     "data": {
      "image/png": "[encoded data removed]",
      "text/plain": [
       "<Figure size 237.6x158.4 with 1 Axes>"
      ]
     },
     "metadata": {
      "image/png": {
       "height": 156,
       "width": 237
      }
     },
     "output_type": "display_data"
    }
   ],
   "source": [
    "plt.figure(figsize=(3.3, 3.3/1.5))\n",
    "ax = boxplot(data=a, x=\"p\", y=\"reward\", hue=\"Algorithm\", hue_order=[\"CMA-ES\", \"PPO-DEEP\", \"PPO-MLP\"], dodge=1.6, width=0.4)\n",
    "#sns.stripplot(data=a, x=\"p\", y=\"reward\", hue=\"algo\", dodge=True, ax=g.ax, color=\"w\")\n",
    "plt.ylim(0, 52)\n",
    "ax.set_ylabel(\"Performance\")\n",
    "ax.set_xlabel(\"$p$\")\n",
    "plt.legend()\n",
    "for p in [0.1, 0.2, 0.5, 1.0]:\n",
    "    add_stat_annotation(ax, data=a, x=\"p\", y=\"reward\", hue=\"Algorithm\", hue_order=[\"CMA-ES\", \"PPO-DEEP\", \"PPO-MLP\"], verbose=2, test=\"Mann-Whitney\",\n",
    "                        box_pairs=[((p, \"PPO-MLP\"), (p, \"CMA-ES\")), ((p, \"PPO-DEEP\"), (p, \"CMA-ES\")), ((p, \"PPO-MLP\"), (p, \"PPO-DEEP\"))], comparisons_correction=None, text_format=\"star\")\n",
    "plt.tight_layout()\n",
    "plt.savefig(figdir + \"/score_boxplot_full.pdf\")"
   ]
  },
  {
   "cell_type": "code",
   "execution_count": 28,
   "metadata": {},
   "outputs": [
    {
     "name": "stdout",
     "output_type": "stream",
     "text": [
      "p-value annotation legend:\n",
      "ns: 5.00e-02 < p <= 1.00e+00\n",
      "*: 1.00e-02 < p <= 5.00e-02\n",
      "**: 1.00e-03 < p <= 1.00e-02\n",
      "***: 1.00e-04 < p <= 1.00e-03\n",
      "****: p <= 1.00e-04\n",
      "\n",
      "0.1_CMA-ES v.s. 0.1_PPO-DEEP: Mann-Whitney-Wilcoxon test two-sided, P_val=3.897e-08 U_stat=5.550e+02\n",
      "0.1_PPO-DEEP v.s. 0.1_PPO-MLP: Mann-Whitney-Wilcoxon test two-sided, P_val=1.230e-07 U_stat=5.450e+02\n",
      "0.1_CMA-ES v.s. 0.1_PPO-MLP: Mann-Whitney-Wilcoxon test two-sided, P_val=3.058e-09 U_stat=5.760e+02\n",
      "p-value annotation legend:\n",
      "ns: 5.00e-02 < p <= 1.00e+00\n",
      "*: 1.00e-02 < p <= 5.00e-02\n",
      "**: 1.00e-03 < p <= 1.00e-02\n",
      "***: 1.00e-04 < p <= 1.00e-03\n",
      "****: p <= 1.00e-04\n",
      "\n",
      "0.2_PPO-DEEP v.s. 0.2_PPO-MLP: Mann-Whitney-Wilcoxon test two-sided, P_val=2.460e-07 U_stat=5.190e+02\n",
      "0.2_CMA-ES v.s. 0.2_PPO-DEEP: Mann-Whitney-Wilcoxon test two-sided, P_val=2.258e-03 U_stat=4.200e+02\n",
      "0.2_CMA-ES v.s. 0.2_PPO-MLP: Mann-Whitney-Wilcoxon test two-sided, P_val=3.005e-06 U_stat=5.150e+02\n",
      "p-value annotation legend:\n",
      "ns: 5.00e-02 < p <= 1.00e+00\n",
      "*: 1.00e-02 < p <= 5.00e-02\n",
      "**: 1.00e-03 < p <= 1.00e-02\n",
      "***: 1.00e-04 < p <= 1.00e-03\n",
      "****: p <= 1.00e-04\n",
      "\n",
      "0.5_CMA-ES v.s. 0.5_PPO-DEEP: Mann-Whitney-Wilcoxon test two-sided, P_val=9.320e-05 U_stat=4.780e+02\n",
      "0.5_PPO-DEEP v.s. 0.5_PPO-MLP: Mann-Whitney-Wilcoxon test two-sided, P_val=6.370e-07 U_stat=5.300e+02\n",
      "0.5_CMA-ES v.s. 0.5_PPO-MLP: Mann-Whitney-Wilcoxon test two-sided, P_val=5.545e-05 U_stat=4.840e+02\n",
      "p-value annotation legend:\n",
      "ns: 5.00e-02 < p <= 1.00e+00\n",
      "*: 1.00e-02 < p <= 5.00e-02\n",
      "**: 1.00e-03 < p <= 1.00e-02\n",
      "***: 1.00e-04 < p <= 1.00e-03\n",
      "****: p <= 1.00e-04\n",
      "\n",
      "1.0_CMA-ES v.s. 1.0_PPO-DEEP: Mann-Whitney-Wilcoxon test two-sided, P_val=1.194e-01 U_stat=3.640e+02\n",
      "1.0_PPO-DEEP v.s. 1.0_PPO-MLP: Mann-Whitney-Wilcoxon test two-sided, P_val=1.820e-02 U_stat=4.030e+02\n",
      "1.0_CMA-ES v.s. 1.0_PPO-MLP: Mann-Whitney-Wilcoxon test two-sided, P_val=1.927e-02 U_stat=4.020e+02\n"
     ]
    },
    {
     "data": {
      "image/png": "[encoded data removed]",
      "text/plain": [
       "<Figure size 237.6x158.4 with 1 Axes>"
      ]
     },
     "metadata": {
      "image/png": {
       "height": 156,
       "width": 237
      }
     },
     "output_type": "display_data"
    }
   ],
   "source": [
    "plt.figure(figsize=(3.3, 3.3/1.5))\n",
    "ax = sns.violinplot(data=a, x=\"p\", y=\"reward\", hue=\"Algorithm\", hue_order=[\"CMA-ES\", \"PPO-DEEP\", \"PPO-MLP\"], dodge=1.4, width=0.6, cut=0)\n",
    "#sns.stripplot(data=a, x=\"p\", y=\"reward\", hue=\"algo\", dodge=True, ax=g.ax, color=\"w\")\n",
    "plt.ylim(0, 52)\n",
    "ax.set_ylabel(\"Performance\")\n",
    "ax.set_xlabel(\"$p$\")\n",
    "plt.legend(loc=\"lower right\")\n",
    "for p in [0.1, 0.2, 0.5, 1.0]:\n",
    "    add_stat_annotation(ax, data=a, x=\"p\", y=\"reward\", hue=\"Algorithm\", hue_order=[\"CMA-ES\", \"PPO-DEEP\", \"PPO-MLP\"], verbose=2, test=\"Mann-Whitney\",\n",
    "                        box_pairs=[((p, \"PPO-MLP\"), (p, \"CMA-ES\")), ((p, \"PPO-DEEP\"), (p, \"CMA-ES\")), ((p, \"PPO-MLP\"), (p, \"PPO-DEEP\"))], comparisons_correction=None, text_format=\"star\")\n",
    "plt.tight_layout()\n",
    "plt.savefig(figdir + \"/score_violinplot.pdf\")"
   ]
  },
  {
   "cell_type": "code",
   "execution_count": 9,
   "metadata": {},
   "outputs": [],
   "source": [
    "from scipy import stats"
   ]
  },
  {
   "cell_type": "code",
   "execution_count": 10,
   "metadata": {},
   "outputs": [
    {
     "name": "stdout",
     "output_type": "stream",
     "text": [
      "*** 0.1 ***\n",
      "MannwhitneyuResult(statistic=0.0, pvalue=1.5288338590632775e-09)\n",
      "*** 0.2 ***\n",
      "MannwhitneyuResult(statistic=61.0, pvalue=1.502498067477524e-06)\n",
      "*** 0.5 ***\n",
      "MannwhitneyuResult(statistic=92.0, pvalue=2.7727409724280054e-05)\n",
      "*** 1.0 ***\n",
      "MannwhitneyuResult(statistic=174.0, pvalue=0.009633339435000962)\n"
     ]
    }
   ],
   "source": [
    "for name, g in a.groupby([\"p\"]):\n",
    "    print(\"*\"*3, name, \"*\"*3)\n",
    "    print(stats.mannwhitneyu(g.query(\"Algorithm == 'PPO-MLP'\")[\"reward\"], g.query(\"Algorithm == 'CMA-ES'\")[\"reward\"]))"
   ]
  },
  {
   "cell_type": "code",
   "execution_count": 29,
   "metadata": {},
   "outputs": [
    {
     "data": {
      "image/png": "[encoded data removed]",
      "text/plain": [
       "<Figure size 237.6x158.4 with 1 Axes>"
      ]
     },
     "metadata": {
      "image/png": {
       "height": 158,
       "width": 237
      }
     },
     "output_type": "display_data"
    }
   ],
   "source": [
    "plt.figure(figsize=(3.3, 3.3/1.5))\n",
    "ax = sns.boxplot(data=a.query(\"p == 1\"), x=\"Algorithm\", y=\"reward\", dodge=True, width=0.5, order=[\"CMA-ES\", \"PPO-DEEP\", \"PPO-MLP\"])\n",
    "#sns.stripplot(data=a.query(\"p == 1\"), x=\"Algorithm\", y=\"reward\", dodge=True, order=[\"PPO\", \"CMA-ES\"], ax=ax)\n",
    "plt.ylim(0, 52)\n",
    "ax.set_ylabel(\"Performance\")\n",
    "ax.set_xlabel(\"\")\n",
    "plt.tight_layout()\n",
    "plt.savefig(figdir + \"/score_boxplot_1.0.pdf\")"
   ]
  },
  {
   "cell_type": "code",
   "execution_count": 30,
   "metadata": {},
   "outputs": [
    {
     "data": {
      "image/png": "[encoded data removed]",
      "text/plain": [
       "<Figure size 237.6x158.4 with 1 Axes>"
      ]
     },
     "metadata": {
      "image/png": {
       "height": 158,
       "width": 237
      }
     },
     "output_type": "display_data"
    }
   ],
   "source": [
    "plt.figure(figsize=(3.3, 3.3/1.5))\n",
    "ax = sns.violinplot(data=a.query(\"p == 1\"), x=\"Algorithm\", y=\"reward\", dodge=True, width=0.5, cut=0, order=alg_order)\n",
    "#sns.stripplot(data=a, x=\"p\", y=\"reward\", hue=\"algo\", dodge=True, ax=g.ax, color=\"w\")\n",
    "plt.ylim(0, 52)\n",
    "ax.set_ylabel(\"Performance\")\n",
    "ax.set_xlabel(\"\")\n",
    "plt.tight_layout()\n",
    "plt.savefig(figdir + \"/score_violin_1.0.pdf\")"
   ]
  },
  {
   "cell_type": "code",
   "execution_count": 39,
   "metadata": {},
   "outputs": [
    {
     "data": {
      "text/html": [
       "<div>\n",
       "<style scoped>\n",
       "    .dataframe tbody tr th:only-of-type {\n",
       "        vertical-align: middle;\n",
       "    }\n",
       "\n",
       "    .dataframe tbody tr th {\n",
       "        vertical-align: top;\n",
       "    }\n",
       "\n",
       "    .dataframe thead th {\n",
       "        text-align: right;\n",
       "    }\n",
       "</style>\n",
       "<table border=\"1\" class=\"dataframe\">\n",
       "  <thead>\n",
       "    <tr style=\"text-align: right;\">\n",
       "      <th></th>\n",
       "      <th>mean</th>\n",
       "      <th>std</th>\n",
       "    </tr>\n",
       "    <tr>\n",
       "      <th>algo</th>\n",
       "      <th></th>\n",
       "      <th></th>\n",
       "    </tr>\n",
       "  </thead>\n",
       "  <tbody>\n",
       "    <tr>\n",
       "      <th>CMA-ES</th>\n",
       "      <td>44.42</td>\n",
       "      <td>6.62</td>\n",
       "    </tr>\n",
       "    <tr>\n",
       "      <th>PPO-DEEP</th>\n",
       "      <td>39.12</td>\n",
       "      <td>17.89</td>\n",
       "    </tr>\n",
       "    <tr>\n",
       "      <th>PPO-MLP</th>\n",
       "      <td>44.78</td>\n",
       "      <td>3.62</td>\n",
       "    </tr>\n",
       "  </tbody>\n",
       "</table>\n",
       "</div>"
      ],
      "text/plain": [
       "          mean   std\n",
       "algo                \n",
       "CMA-ES   44.42  6.62\n",
       "PPO-DEEP 39.12 17.89\n",
       "PPO-MLP  44.78  3.62"
      ]
     },
     "execution_count": 39,
     "metadata": {},
     "output_type": "execute_result"
    }
   ],
   "source": [
    "a.query(\"p == 1\").groupby(\"algo\")[\"reward\"].agg([\"mean\", \"std\"])"
   ]
  },
  {
   "cell_type": "code",
   "execution_count": 110,
   "metadata": {},
   "outputs": [
    {
     "data": {
      "text/html": [
       "<div>\n",
       "<style scoped>\n",
       "    .dataframe tbody tr th:only-of-type {\n",
       "        vertical-align: middle;\n",
       "    }\n",
       "\n",
       "    .dataframe tbody tr th {\n",
       "        vertical-align: top;\n",
       "    }\n",
       "\n",
       "    .dataframe thead th {\n",
       "        text-align: right;\n",
       "    }\n",
       "</style>\n",
       "<table border=\"1\" class=\"dataframe\">\n",
       "  <thead>\n",
       "    <tr style=\"text-align: right;\">\n",
       "      <th></th>\n",
       "      <th>Algorithm</th>\n",
       "      <th>p</th>\n",
       "      <th>reward</th>\n",
       "      <th>trial_id</th>\n",
       "    </tr>\n",
       "  </thead>\n",
       "  <tbody>\n",
       "    <tr>\n",
       "      <th>3</th>\n",
       "      <td>CMA-ES</td>\n",
       "      <td>0.10</td>\n",
       "      <td>48.68</td>\n",
       "      <td>c6304_00003</td>\n",
       "    </tr>\n",
       "    <tr>\n",
       "      <th>115</th>\n",
       "      <td>PPO-DEEP</td>\n",
       "      <td>0.10</td>\n",
       "      <td>45.96</td>\n",
       "      <td>c3315_00007</td>\n",
       "    </tr>\n",
       "    <tr>\n",
       "      <th>210</th>\n",
       "      <td>PPO-MLP</td>\n",
       "      <td>0.10</td>\n",
       "      <td>34.35</td>\n",
       "      <td>3c19e_00019</td>\n",
       "    </tr>\n",
       "    <tr>\n",
       "      <th>38</th>\n",
       "      <td>CMA-ES</td>\n",
       "      <td>0.20</td>\n",
       "      <td>48.68</td>\n",
       "      <td>bcd0a_00014</td>\n",
       "    </tr>\n",
       "    <tr>\n",
       "      <th>133</th>\n",
       "      <td>PPO-DEEP</td>\n",
       "      <td>0.20</td>\n",
       "      <td>44.06</td>\n",
       "      <td>b425b_00002</td>\n",
       "    </tr>\n",
       "    <tr>\n",
       "      <th>230</th>\n",
       "      <td>PPO-MLP</td>\n",
       "      <td>0.20</td>\n",
       "      <td>40.08</td>\n",
       "      <td>b636b_00015</td>\n",
       "    </tr>\n",
       "    <tr>\n",
       "      <th>57</th>\n",
       "      <td>CMA-ES</td>\n",
       "      <td>0.50</td>\n",
       "      <td>48.95</td>\n",
       "      <td>c3f54_00009</td>\n",
       "    </tr>\n",
       "    <tr>\n",
       "      <th>146</th>\n",
       "      <td>PPO-DEEP</td>\n",
       "      <td>0.50</td>\n",
       "      <td>46.80</td>\n",
       "      <td>a50be_00003</td>\n",
       "    </tr>\n",
       "    <tr>\n",
       "      <th>262</th>\n",
       "      <td>PPO-MLP</td>\n",
       "      <td>0.50</td>\n",
       "      <td>45.00</td>\n",
       "      <td>b613b_00023</td>\n",
       "    </tr>\n",
       "    <tr>\n",
       "      <th>74</th>\n",
       "      <td>CMA-ES</td>\n",
       "      <td>1.00</td>\n",
       "      <td>48.50</td>\n",
       "      <td>be044_00002</td>\n",
       "    </tr>\n",
       "    <tr>\n",
       "      <th>174</th>\n",
       "      <td>PPO-DEEP</td>\n",
       "      <td>1.00</td>\n",
       "      <td>48.00</td>\n",
       "      <td>a49b4_00007</td>\n",
       "    </tr>\n",
       "    <tr>\n",
       "      <th>286</th>\n",
       "      <td>PPO-MLP</td>\n",
       "      <td>1.00</td>\n",
       "      <td>47.22</td>\n",
       "      <td>b60b6_00023</td>\n",
       "    </tr>\n",
       "  </tbody>\n",
       "</table>\n",
       "</div>"
      ],
      "text/plain": [
       "    Algorithm    p  reward     trial_id\n",
       "3      CMA-ES 0.10   48.68  c6304_00003\n",
       "115  PPO-DEEP 0.10   45.96  c3315_00007\n",
       "210   PPO-MLP 0.10   34.35  3c19e_00019\n",
       "38     CMA-ES 0.20   48.68  bcd0a_00014\n",
       "133  PPO-DEEP 0.20   44.06  b425b_00002\n",
       "230   PPO-MLP 0.20   40.08  b636b_00015\n",
       "57     CMA-ES 0.50   48.95  c3f54_00009\n",
       "146  PPO-DEEP 0.50   46.80  a50be_00003\n",
       "262   PPO-MLP 0.50   45.00  b613b_00023\n",
       "74     CMA-ES 1.00   48.50  be044_00002\n",
       "174  PPO-DEEP 1.00   48.00  a49b4_00007\n",
       "286   PPO-MLP 1.00   47.22  b60b6_00023"
      ]
     },
     "execution_count": 110,
     "metadata": {},
     "output_type": "execute_result"
    }
   ],
   "source": [
    "d = []\n",
    "for n, g in a.groupby([\"p\", \"Algorithm\"]):\n",
    "    d.append(g.sort_values(\"reward\").iloc[-1][[\"Algorithm\", \"p\",\"reward\",\"trial_id\"]])\n",
    "pd.DataFrame(d)"
   ]
  },
  {
   "cell_type": "code",
   "execution_count": 32,
   "metadata": {},
   "outputs": [],
   "source": [
    "def cohen_d(x,y):\n",
    "        return (np.mean(x) - np.mean(y)) / np.sqrt((np.std(x, ddof=1) ** 2 + np.std(y, ddof=1) ** 2) / 2.0)\n"
   ]
  },
  {
   "cell_type": "code",
   "execution_count": 33,
   "metadata": {},
   "outputs": [
    {
     "data": {
      "text/plain": [
       "<pandas.core.groupby.generic.SeriesGroupBy object at 0x7fc6fe8bd280>"
      ]
     },
     "execution_count": 33,
     "metadata": {},
     "output_type": "execute_result"
    }
   ],
   "source": [
    "a.query(\"p == 1\").groupby(\"algo\")[\"reward\"]"
   ]
  },
  {
   "cell_type": "code",
   "execution_count": 34,
   "metadata": {},
   "outputs": [
    {
     "data": {
      "text/plain": [
       "0.0670330134323978"
      ]
     },
     "execution_count": 34,
     "metadata": {},
     "output_type": "execute_result"
    }
   ],
   "source": [
    "cohen_d(a.query(\"p == 1 and algo == 'PPO-MLP'\")[\"reward\"],\n",
    "       a.query(\"p == 1 and algo == 'CMA-ES'\")[\"reward\"])"
   ]
  },
  {
   "cell_type": "code",
   "execution_count": 36,
   "metadata": {},
   "outputs": [
    {
     "data": {
      "text/plain": [
       "0.43857459259140796"
      ]
     },
     "execution_count": 36,
     "metadata": {},
     "output_type": "execute_result"
    }
   ],
   "source": [
    "cohen_d(a.query(\"p == 1 and algo == 'PPO-MLP'\")[\"reward\"],\n",
    "       a.query(\"p == 1 and algo == 'PPO-DEEP'\")[\"reward\"])"
   ]
  },
  {
   "cell_type": "code",
   "execution_count": 37,
   "metadata": {},
   "outputs": [
    {
     "data": {
      "text/plain": [
       "-0.39318113587238923"
      ]
     },
     "execution_count": 37,
     "metadata": {},
     "output_type": "execute_result"
    }
   ],
   "source": [
    "cohen_d(a.query(\"p == 1 and algo == 'PPO-DEEP'\")[\"reward\"],\n",
    "       a.query(\"p == 1 and algo == 'CMA-ES'\")[\"reward\"])"
   ]
  },
  {
   "cell_type": "code",
   "execution_count": 17,
   "metadata": {},
   "outputs": [
    {
     "data": {
      "text/html": [
       "<div>\n",
       "<style scoped>\n",
       "    .dataframe tbody tr th:only-of-type {\n",
       "        vertical-align: middle;\n",
       "    }\n",
       "\n",
       "    .dataframe tbody tr th {\n",
       "        vertical-align: top;\n",
       "    }\n",
       "\n",
       "    .dataframe thead th {\n",
       "        text-align: right;\n",
       "    }\n",
       "</style>\n",
       "<table border=\"1\" class=\"dataframe\">\n",
       "  <thead>\n",
       "    <tr style=\"text-align: right;\">\n",
       "      <th></th>\n",
       "      <th>algo</th>\n",
       "      <th>trial_id</th>\n",
       "      <th>Unnamed: 0</th>\n",
       "      <th>ep</th>\n",
       "      <th>reward</th>\n",
       "      <th>run_id</th>\n",
       "      <th>good_site_prob</th>\n",
       "      <th>Algorithm</th>\n",
       "    </tr>\n",
       "    <tr>\n",
       "      <th>p</th>\n",
       "      <th></th>\n",
       "      <th></th>\n",
       "      <th></th>\n",
       "      <th></th>\n",
       "      <th></th>\n",
       "      <th></th>\n",
       "      <th></th>\n",
       "      <th></th>\n",
       "    </tr>\n",
       "  </thead>\n",
       "  <tbody>\n",
       "    <tr>\n",
       "      <th>0.1</th>\n",
       "      <td>24</td>\n",
       "      <td>24</td>\n",
       "      <td>24</td>\n",
       "      <td>24</td>\n",
       "      <td>24</td>\n",
       "      <td>24</td>\n",
       "      <td>24</td>\n",
       "      <td>24</td>\n",
       "    </tr>\n",
       "    <tr>\n",
       "      <th>0.2</th>\n",
       "      <td>23</td>\n",
       "      <td>23</td>\n",
       "      <td>23</td>\n",
       "      <td>23</td>\n",
       "      <td>23</td>\n",
       "      <td>23</td>\n",
       "      <td>23</td>\n",
       "      <td>23</td>\n",
       "    </tr>\n",
       "    <tr>\n",
       "      <th>0.5</th>\n",
       "      <td>24</td>\n",
       "      <td>24</td>\n",
       "      <td>24</td>\n",
       "      <td>24</td>\n",
       "      <td>24</td>\n",
       "      <td>24</td>\n",
       "      <td>24</td>\n",
       "      <td>24</td>\n",
       "    </tr>\n",
       "    <tr>\n",
       "      <th>1.0</th>\n",
       "      <td>24</td>\n",
       "      <td>24</td>\n",
       "      <td>24</td>\n",
       "      <td>24</td>\n",
       "      <td>24</td>\n",
       "      <td>24</td>\n",
       "      <td>24</td>\n",
       "      <td>24</td>\n",
       "    </tr>\n",
       "  </tbody>\n",
       "</table>\n",
       "</div>"
      ],
      "text/plain": [
       "     algo  trial_id  Unnamed: 0  ep  reward  run_id  good_site_prob  Algorithm\n",
       "p                                                                             \n",
       "0.1    24        24          24  24      24      24              24         24\n",
       "0.2    23        23          23  23      23      23              23         23\n",
       "0.5    24        24          24  24      24      24              24         24\n",
       "1.0    24        24          24  24      24      24              24         24"
      ]
     },
     "execution_count": 17,
     "metadata": {},
     "output_type": "execute_result"
    }
   ],
   "source": [
    "a.query(\"algo == 'PPO-DEEP'\").groupby(\"p\").count()"
   ]
  },
  {
   "cell_type": "code",
   "execution_count": 38,
   "metadata": {},
   "outputs": [
    {
     "name": "stdout",
     "output_type": "stream",
     "text": [
      "\\begin{tabular}{llrr}\n",
      "\\toprule\n",
      "     &         & \\multicolumn{2}{l}{reward} \\\\\n",
      "     &         & median &   mad \\\\\n",
      "p & algo &        &       \\\\\n",
      "\\midrule\n",
      "0.10 & CMA-ES &  47.72 &  2.45 \\\\\n",
      "     & PPO-DEEP &  37.83 &  4.43 \\\\\n",
      "     & PPO-MLP &  24.04 &  3.43 \\\\\n",
      "0.20 & CMA-ES &  47.56 &  5.32 \\\\\n",
      "     & PPO-DEEP &  41.18 &  1.90 \\\\\n",
      "     & PPO-MLP &  32.44 &  5.20 \\\\\n",
      "0.50 & CMA-ES &  48.00 &  4.59 \\\\\n",
      "     & PPO-DEEP &  45.23 &  0.70 \\\\\n",
      "     & PPO-MLP &  42.52 &  2.62 \\\\\n",
      "1.00 & CMA-ES &  47.64 &  4.72 \\\\\n",
      "     & PPO-DEEP &  46.99 & 13.04 \\\\\n",
      "     & PPO-MLP &  45.58 &  1.86 \\\\\n",
      "\\bottomrule\n",
      "\\end{tabular}\n",
      "\n"
     ]
    }
   ],
   "source": [
    "pd.options.display.float_format = '{:,.2f}'.format\n",
    "print(a.groupby([\"p\", \"algo\"])[[\"reward\"]].agg([\"median\", \"mad\"]).to_latex())"
   ]
  },
  {
   "cell_type": "code",
   "execution_count": 88,
   "metadata": {},
   "outputs": [
    {
     "name": "stdout",
     "output_type": "stream",
     "text": [
      "\\begin{tabular}{llrrrr}\n",
      "\\toprule\n",
      "     &         &  median &   mad &  mean &   std \\\\\n",
      "p & algo &         &       &       &       \\\\\n",
      "\\midrule\n",
      "0.10 & CMA-ES &   47.72 &  2.45 & 46.19 &  3.21 \\\\\n",
      "     & PPO-DEEP &   37.83 &  4.43 & 35.73 &  5.16 \\\\\n",
      "     & PPO-MLP &   24.04 &  3.43 & 24.92 &  4.23 \\\\\n",
      "0.20 & CMA-ES &   47.56 &  5.32 & 44.03 &  6.98 \\\\\n",
      "     & PPO-DEEP &   41.18 &  1.90 & 40.76 &  3.57 \\\\\n",
      "     & PPO-MLP &   32.44 &  5.20 & 31.60 &  5.93 \\\\\n",
      "0.50 & CMA-ES &   48.00 &  4.59 & 45.17 &  6.67 \\\\\n",
      "     & PPO-DEEP &   45.23 &  0.70 & 45.06 &  0.89 \\\\\n",
      "     & PPO-MLP &   42.52 &  2.62 & 41.49 &  4.17 \\\\\n",
      "1.00 & CMA-ES &   47.64 &  4.72 & 44.42 &  6.62 \\\\\n",
      "     & PPO-DEEP &   46.99 & 13.04 & 39.12 & 17.89 \\\\\n",
      "     & PPO-MLP &   45.58 &  1.86 & 44.78 &  3.62 \\\\\n",
      "\\bottomrule\n",
      "\\end{tabular}\n",
      "\n"
     ]
    }
   ],
   "source": [
    "pd.options.display.float_format = \"{:,.2f}\".format\n",
    "\n",
    "print(a.groupby([\"p\", \"algo\"])[\"reward\"].agg([\"median\", \"mad\", \"mean\", \"std\"]).to_latex())"
   ]
  },
  {
   "cell_type": "code",
   "execution_count": 44,
   "metadata": {},
   "outputs": [],
   "source": [
    "#data=a, x=\"p\", y=\"reward\", hue=\"Algorithm\"\n",
    "from statannot import stat_test\n",
    "\n"
   ]
  },
  {
   "cell_type": "code",
   "execution_count": 72,
   "metadata": {},
   "outputs": [],
   "source": [
    "from itertools import combinations\n",
    "pairs = list(combinations([\"PPO-MLP\", \"PPO-DEEP\", \"CMA-ES\"], 2))\n",
    "out = []\n",
    "for n, g in a.groupby(\"p\"):\n",
    "    for a1, a2 in pairs:\n",
    "        x = g.query(\"Algorithm == @a1\")[\"reward\"]\n",
    "        y = g.query(\"Algorithm == @a2\")[\"reward\"]\n",
    "        o = stat_test(x, y, \"Mann-Whitney\")\n",
    "        out.append({\"p\": n, \"test\": a1 + \" vs \" + a2, \"pval\": o.pval, \"U-statistic\": int(o.stat)})"
   ]
  },
  {
   "cell_type": "code",
   "execution_count": 73,
   "metadata": {},
   "outputs": [],
   "source": [
    "outdf = pd.DataFrame(out)"
   ]
  },
  {
   "cell_type": "code",
   "execution_count": 84,
   "metadata": {},
   "outputs": [],
   "source": [
    "pd.options.display.float_format = '{:,.2}'.format\n"
   ]
  },
  {
   "cell_type": "code",
   "execution_count": 85,
   "metadata": {},
   "outputs": [
    {
     "name": "stdout",
     "output_type": "stream",
     "text": [
      "\\begin{tabular}{llrr}\n",
      "\\toprule\n",
      "    &                    &    pval &  U-statistic \\\\\n",
      "p & test &         &              \\\\\n",
      "\\midrule\n",
      "0.1 & PPO-MLP vs PPO-DEEP & 1.2e-07 &           31 \\\\\n",
      "    & PPO-MLP vs CMA-ES & 3.1e-09 &            0 \\\\\n",
      "    & PPO-DEEP vs CMA-ES & 3.9e-08 &           21 \\\\\n",
      "0.2 & PPO-MLP vs PPO-DEEP & 2.5e-07 &           33 \\\\\n",
      "    & PPO-MLP vs CMA-ES &   3e-06 &           61 \\\\\n",
      "    & PPO-DEEP vs CMA-ES &  0.0023 &          132 \\\\\n",
      "0.5 & PPO-MLP vs PPO-DEEP & 6.4e-07 &           46 \\\\\n",
      "    & PPO-MLP vs CMA-ES & 5.5e-05 &           92 \\\\\n",
      "    & PPO-DEEP vs CMA-ES & 9.3e-05 &           98 \\\\\n",
      "1.0 & PPO-MLP vs PPO-DEEP &   0.018 &          173 \\\\\n",
      "    & PPO-MLP vs CMA-ES &   0.019 &          174 \\\\\n",
      "    & PPO-DEEP vs CMA-ES &    0.12 &          212 \\\\\n",
      "\\bottomrule\n",
      "\\end{tabular}\n",
      "\n"
     ]
    }
   ],
   "source": [
    "print(outdf.set_index([\"p\", \"test\"]).to_latex())"
   ]
  },
  {
   "cell_type": "code",
   "execution_count": null,
   "metadata": {},
   "outputs": [],
   "source": []
  }
 ],
 "metadata": {
  "kernelspec": {
   "display_name": "Python 3",
   "language": "python",
   "name": "python3"
  },
  "language_info": {
   "codemirror_mode": {
    "name": "ipython",
    "version": 3
   },
   "file_extension": ".py",
   "mimetype": "text/x-python",
   "name": "python",
   "nbconvert_exporter": "python",
   "pygments_lexer": "ipython3",
   "version": "3.8.5"
  }
 },
 "nbformat": 4,
 "nbformat_minor": 4
}
